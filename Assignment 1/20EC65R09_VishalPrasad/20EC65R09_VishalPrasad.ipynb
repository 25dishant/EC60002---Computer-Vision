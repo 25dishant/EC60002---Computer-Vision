{
  "nbformat": 4,
  "nbformat_minor": 0,
  "metadata": {
    "colab": {
      "name": "20EC65R09_VishalPrasad.ipynb",
      "provenance": [],
      "collapsed_sections": []
    },
    "kernelspec": {
      "name": "python3",
      "display_name": "Python 3"
    }
  },
  "cells": [
    {
      "cell_type": "code",
      "metadata": {
        "id": "vk2_PCTytZFV"
      },
      "source": [
        "\r\n",
        "# Import modules\r\n",
        "import numpy as np\r\n",
        "import pandas as pd\r\n",
        "\r\n",
        "\r\n",
        "cv_data = \"/CA1_Data.xlsx\"\r\n",
        "\r\n",
        "# Read file using pandas\r\n",
        "dataset = pd.read_excel(cv_data)\r\n",
        "A = np.array([[0.49, 0.31, 0.2],\r\n",
        "\t      [0.177,0.813,0.01],\r\n",
        "\t      [0    , 0.01, 0.99]]\r\n",
        ")\r\n",
        "\r\n",
        "# Take inverse of the matrix\r\n",
        "B= np.linalg.inv(A)\r\n",
        "\r\n",
        "\r\n",
        "print(B)\r\n",
        "\r\n",
        "\r\n",
        "# Consider philips spectrum first\r\n",
        "dataset['X'] = dataset['x'] * dataset['philips_spectra']\r\n",
        "dataset['Y'] = dataset['y'] * dataset['philips_spectra']\r\n",
        "dataset['Z'] = dataset['z'] * dataset['philips_spectra']\r\n",
        "\r\n",
        "\r\n",
        "X = dataset['X'].sum()\r\n",
        "Y = dataset['Y'].sum()\r\n",
        "Z = dataset['Z'].sum()\r\n",
        "Tris = [X, Y, Z]\r\n",
        "rgb = np.dot(B,Tris)\r\n",
        "print(rgb * 255)\r\n"
      ],
      "execution_count": null,
      "outputs": []
    },
    {
      "cell_type": "markdown",
      "metadata": {
        "id": "FOVzGXIUuIcT"
      },
      "source": [
        "Silvania"
      ]
    },
    {
      "cell_type": "code",
      "metadata": {
        "id": "aQdAF3iLt1dU"
      },
      "source": [
        "# silvania spectrum\r\n",
        "dataset['X'] = dataset['x'] * dataset['silvania_spectra']\r\n",
        "dataset['Y'] = dataset['y'] * dataset['silvania_spectra']\r\n",
        "dataset['Z'] = dataset['z'] * dataset['silvania_spectra']\r\n",
        "X = dataset['X'].sum()\r\n",
        "Y = dataset['Y'].sum()\r\n",
        "Z = dataset['Z'].sum()\r\n",
        "Tris = [X, Y, Z]\r\n",
        "rgb = np.dot(B,Tris)\r\n",
        "print(rgb * 255)\r\n"
      ],
      "execution_count": null,
      "outputs": []
    },
    {
      "cell_type": "markdown",
      "metadata": {
        "id": "A0ijD3tPuKh6"
      },
      "source": [
        "Uniform"
      ]
    },
    {
      "cell_type": "code",
      "metadata": {
        "id": "N-fV-hl3t6kE"
      },
      "source": [
        "# Uniform spectrum\r\n",
        "dataset['X'] = dataset['x'] * dataset['uniform_spectra']\r\n",
        "dataset['Y'] = dataset['y'] * dataset['uniform_spectra']\r\n",
        "dataset['Z'] = dataset['z'] * dataset['uniform_spectra']\r\n",
        "X = dataset['X'].sum()\r\n",
        "Y = dataset['Y'].sum()\r\n",
        "Z = dataset['Z'].sum()\r\n",
        "Tris = [X, Y, Z]\r\n",
        "rgb = np.dot(B,Tris)\r\n",
        "print(rgb * 255)\r\n"
      ],
      "execution_count": null,
      "outputs": []
    },
    {
      "cell_type": "markdown",
      "metadata": {
        "id": "vwHJ3g8XuMOW"
      },
      "source": [
        "Part-2"
      ]
    },
    {
      "cell_type": "code",
      "metadata": {
        "id": "rQz2kHgGt9Aa"
      },
      "source": [
        "max_x = max(dataset['x']);\r\n",
        "max_y = max(dataset['y']);\r\n",
        "max_z = max(dataset['z']);\r\n",
        "\r\n",
        "\r\n",
        "dataset['reflectance_x'] = dataset['x']/max_x\r\n",
        "dataset['reflectance_y'] = dataset['y']/max_y\r\n",
        "dataset['reflectance_z'] = dataset['z']/max_z\r\n",
        "\r\n",
        "\r\n",
        "dataset['X'] = dataset['x'] * dataset['uniform_spectra'] * dataset['reflectance_x']\r\n",
        "dataset['Y'] = dataset['y'] * dataset['uniform_spectra'] *dataset['reflectance_y']\r\n",
        "dataset['Z'] = dataset['z'] * dataset['uniform_spectra'] *dataset['reflectance_z']\r\n",
        "\r\n",
        "\r\n",
        "X = dataset['X'].sum()\r\n",
        "Y = dataset['Y'].sum()\r\n",
        "Z = dataset['Z'].sum()\r\n",
        "Tris = [X, Y, Z]\r\n",
        "rgb = np.dot(B,Tris)\r\n",
        "print(rgb * 255)\r\n"
      ],
      "execution_count": null,
      "outputs": []
    }
  ]
}