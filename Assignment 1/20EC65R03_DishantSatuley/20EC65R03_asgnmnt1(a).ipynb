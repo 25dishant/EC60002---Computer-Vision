{
  "nbformat": 4,
  "nbformat_minor": 0,
  "metadata": {
    "colab": {
      "name": "20EC65R03_CV_asgnmnt1(a).ipynb",
      "provenance": [],
      "collapsed_sections": []
    },
    "kernelspec": {
      "name": "python3",
      "display_name": "Python 3"
    }
  },
  "cells": [
    {
      "cell_type": "markdown",
      "metadata": {
        "id": "1uK6t8CvYH0Y"
      },
      "source": [
        "1.   **Upload the data (Excel Sheet) given for this assignment to the google drive.**\r\n",
        "2.   **Mount the google drive by giving required permissions.**\r\n",
        "3.   **Enter the permission code in the field that appears after running the code section in the first cell.**\r\n",
        "\r\n"
      ]
    },
    {
      "cell_type": "code",
      "metadata": {
        "colab": {
          "base_uri": "https://localhost:8080/"
        },
        "id": "bwhk1smEQke5",
        "outputId": "98167fc4-5326-44c4-805b-7bdfa706d9ce"
      },
      "source": [
        "from google.colab import drive\r\n",
        "drive.mount('/gdrive')\r\n",
        "%cd /gdrive"
      ],
      "execution_count": 112,
      "outputs": [
        {
          "output_type": "stream",
          "text": [
            "Drive already mounted at /gdrive; to attempt to forcibly remount, call drive.mount(\"/gdrive\", force_remount=True).\n",
            "/gdrive\n"
          ],
          "name": "stdout"
        }
      ]
    },
    {
      "cell_type": "markdown",
      "metadata": {
        "id": "q3xJsbtpYeDS"
      },
      "source": [
        "**Import all the required Modules**"
      ]
    },
    {
      "cell_type": "code",
      "metadata": {
        "id": "pWm8-L_cTDVm"
      },
      "source": [
        "import pandas as pd\r\n",
        "import numpy as np"
      ],
      "execution_count": 113,
      "outputs": []
    },
    {
      "cell_type": "markdown",
      "metadata": {
        "id": "w2f6rw-Oji-g"
      },
      "source": [
        "1.  **Load the file using pandas**\r\n",
        "2.  **Check the file using head() method**"
      ]
    },
    {
      "cell_type": "code",
      "metadata": {
        "colab": {
          "base_uri": "https://localhost:8080/",
          "height": 204
        },
        "id": "kF18Ym0l3oQ1",
        "outputId": "40969ff1-fbdc-481e-fd4b-30dbfcc3446c"
      },
      "source": [
        "dataset = pd.read_excel(\"My Drive/CV_asgnmnt1_Data.xlsx\")\r\n",
        "\r\n",
        "dataset.head()\r\n"
      ],
      "execution_count": 114,
      "outputs": [
        {
          "output_type": "execute_result",
          "data": {
            "text/html": [
              "<div>\n",
              "<style scoped>\n",
              "    .dataframe tbody tr th:only-of-type {\n",
              "        vertical-align: middle;\n",
              "    }\n",
              "\n",
              "    .dataframe tbody tr th {\n",
              "        vertical-align: top;\n",
              "    }\n",
              "\n",
              "    .dataframe thead th {\n",
              "        text-align: right;\n",
              "    }\n",
              "</style>\n",
              "<table border=\"1\" class=\"dataframe\">\n",
              "  <thead>\n",
              "    <tr style=\"text-align: right;\">\n",
              "      <th></th>\n",
              "      <th>wavelength_L nm</th>\n",
              "      <th>x</th>\n",
              "      <th>y</th>\n",
              "      <th>z</th>\n",
              "      <th>philips_spectra</th>\n",
              "      <th>silvania_spectra</th>\n",
              "      <th>uniform_spectra</th>\n",
              "    </tr>\n",
              "  </thead>\n",
              "  <tbody>\n",
              "    <tr>\n",
              "      <th>0</th>\n",
              "      <td>360</td>\n",
              "      <td>0.000006</td>\n",
              "      <td>1.830000e-07</td>\n",
              "      <td>0.000028</td>\n",
              "      <td>0.0</td>\n",
              "      <td>0.021798</td>\n",
              "      <td>1</td>\n",
              "    </tr>\n",
              "    <tr>\n",
              "      <th>1</th>\n",
              "      <td>365</td>\n",
              "      <td>0.000011</td>\n",
              "      <td>3.260000e-07</td>\n",
              "      <td>0.000051</td>\n",
              "      <td>0.0</td>\n",
              "      <td>0.025739</td>\n",
              "      <td>1</td>\n",
              "    </tr>\n",
              "    <tr>\n",
              "      <th>2</th>\n",
              "      <td>370</td>\n",
              "      <td>0.000019</td>\n",
              "      <td>5.800000e-07</td>\n",
              "      <td>0.000091</td>\n",
              "      <td>0.0</td>\n",
              "      <td>0.029357</td>\n",
              "      <td>1</td>\n",
              "    </tr>\n",
              "    <tr>\n",
              "      <th>3</th>\n",
              "      <td>375</td>\n",
              "      <td>0.000035</td>\n",
              "      <td>1.030000e-06</td>\n",
              "      <td>0.000163</td>\n",
              "      <td>0.0</td>\n",
              "      <td>0.031511</td>\n",
              "      <td>1</td>\n",
              "    </tr>\n",
              "    <tr>\n",
              "      <th>4</th>\n",
              "      <td>380</td>\n",
              "      <td>0.000064</td>\n",
              "      <td>1.820000e-06</td>\n",
              "      <td>0.000302</td>\n",
              "      <td>0.0</td>\n",
              "      <td>0.035863</td>\n",
              "      <td>1</td>\n",
              "    </tr>\n",
              "  </tbody>\n",
              "</table>\n",
              "</div>"
            ],
            "text/plain": [
              "   wavelength_L nm           x  ...  silvania_spectra  uniform_spectra\n",
              "0                360  0.000006  ...          0.021798                1\n",
              "1                365  0.000011  ...          0.025739                1\n",
              "2                370  0.000019  ...          0.029357                1\n",
              "3                375  0.000035  ...          0.031511                1\n",
              "4                380  0.000064  ...          0.035863                1\n",
              "\n",
              "[5 rows x 7 columns]"
            ]
          },
          "metadata": {
            "tags": []
          },
          "execution_count": 114
        }
      ]
    },
    {
      "cell_type": "markdown",
      "metadata": {
        "id": "SR2XOYyrqBL6"
      },
      "source": [
        "1.  **As we are considering a true white object, its reflectance will be unity. So, the radiance will become equal to illuminance.**\r\n",
        "2.  **Now considering one of the illuminance spectra as given in the assignment,\r\n",
        "we will calculate the tristumulus values, i.e. X , Y and Z.**\r\n",
        "3.  **Let us consider the *philips_spectra* first.**"
      ]
    },
    {
      "cell_type": "code",
      "metadata": {
        "colab": {
          "base_uri": "https://localhost:8080/"
        },
        "id": "iwFdYNffn9H3",
        "outputId": "707b10fb-1553-4123-df8f-e0963ebf2c1e"
      },
      "source": [
        "# Integral\r\n",
        "X = sum(dataset['philips_spectra']*dataset['x'])\r\n",
        "Y = sum(dataset['philips_spectra']*dataset['y'])\r\n",
        "Z = sum(dataset['philips_spectra']*dataset['z'])\r\n",
        "TristumulusValues = [X,Y,Z]\r\n",
        "np.array(TristumulusValues)"
      ],
      "execution_count": 115,
      "outputs": [
        {
          "output_type": "execute_result",
          "data": {
            "text/plain": [
              "array([0.29222667, 0.2416636 , 0.06175656])"
            ]
          },
          "metadata": {
            "tags": []
          },
          "execution_count": 115
        }
      ]
    },
    {
      "cell_type": "markdown",
      "metadata": {
        "id": "x9ATbLKydRk1"
      },
      "source": [
        "1.  **GIVEN MATRIX**\r\n",
        "2.  **Finding the inverse of the matrix**"
      ]
    },
    {
      "cell_type": "code",
      "metadata": {
        "colab": {
          "base_uri": "https://localhost:8080/"
        },
        "id": "5n8p8XTibxQN",
        "outputId": "359d4a3f-1bb4-48cd-eeb5-844cc9b8f459"
      },
      "source": [
        "A = [[0.49,0.31,0.2],[0.177,0.813,0.01],[0,0.01,0.99]]\r\n",
        "A_inverse = np.linalg.inv(A)\r\n",
        "A_inverse"
      ],
      "execution_count": 116,
      "outputs": [
        {
          "output_type": "execute_result",
          "data": {
            "text/plain": [
              "array([[ 2.36439757, -0.89578988, -0.46860769],\n",
              "       [-0.51482211,  1.42521374,  0.08960837],\n",
              "       [ 0.00520022, -0.0143961 ,  1.00919588]])"
            ]
          },
          "metadata": {
            "tags": []
          },
          "execution_count": 116
        }
      ]
    },
    {
      "cell_type": "markdown",
      "metadata": {
        "id": "sHs8Izit1f7k"
      },
      "source": [
        "**This code section gives the normalized values of RGB colors.**"
      ]
    },
    {
      "cell_type": "code",
      "metadata": {
        "colab": {
          "base_uri": "https://localhost:8080/"
        },
        "id": "iXnXDm8Oh741",
        "outputId": "39ab84a9-e173-47d8-b4b6-622846ea4991"
      },
      "source": [
        "np.dot(A_inverse,TristumulusValues)"
      ],
      "execution_count": 117,
      "outputs": [
        {
          "output_type": "execute_result",
          "data": {
            "text/plain": [
              "array([0.44552062, 0.19951144, 0.0603651 ])"
            ]
          },
          "metadata": {
            "tags": []
          },
          "execution_count": 117
        }
      ]
    },
    {
      "cell_type": "markdown",
      "metadata": {
        "id": "CGlA_GROkgcC"
      },
      "source": [
        "**This code section gives the RGB representation of a true white object under philips_spectra illuminance.**"
      ]
    },
    {
      "cell_type": "code",
      "metadata": {
        "colab": {
          "base_uri": "https://localhost:8080/"
        },
        "id": "YrF0-FGp0g4I",
        "outputId": "78240ba8-e841-4a5b-dcdf-d028da17dd54"
      },
      "source": [
        "R = 255*np.dot(A_inverse,TristumulusValues)[0]\r\n",
        "G = 255*np.dot(A_inverse,TristumulusValues)[1]\r\n",
        "B = 255*np.dot(A_inverse,TristumulusValues)[2]\r\n",
        "print(\"Red =\",R)\r\n",
        "print(\"Green =\",G)\r\n",
        "print(\"Blue =\",B)"
      ],
      "execution_count": 118,
      "outputs": [
        {
          "output_type": "stream",
          "text": [
            "Red = 113.60775919058099\n",
            "Green = 50.8754179227766\n",
            "Blue = 15.393100008143158\n"
          ],
          "name": "stdout"
        }
      ]
    },
    {
      "cell_type": "markdown",
      "metadata": {
        "id": "tNuuoG9SlEAd"
      },
      "source": [
        "**Now Let us consider the *silvania_spectra* and calculate the tristumulus values for this spectrum.**"
      ]
    },
    {
      "cell_type": "code",
      "metadata": {
        "colab": {
          "base_uri": "https://localhost:8080/"
        },
        "id": "_KdArRFFdNle",
        "outputId": "d4fb700a-1993-4275-d391-bb0d079325cb"
      },
      "source": [
        "X = sum(dataset['silvania_spectra']*dataset['x'])\r\n",
        "Y = sum(dataset['silvania_spectra']*dataset['y'])\r\n",
        "Z = sum(dataset['silvania_spectra']*dataset['z'])\r\n",
        "TristumulusValues = [X,Y,Z]\r\n",
        "np.array(TristumulusValues)"
      ],
      "execution_count": 119,
      "outputs": [
        {
          "output_type": "execute_result",
          "data": {
            "text/plain": [
              "array([0.48411658, 0.44159457, 0.13298113])"
            ]
          },
          "metadata": {
            "tags": []
          },
          "execution_count": 119
        }
      ]
    },
    {
      "cell_type": "markdown",
      "metadata": {
        "id": "E5L30Y_d3fR7"
      },
      "source": [
        "**This code section gives the normalized values of the RGB color components of a true white object under silvania_spectra**"
      ]
    },
    {
      "cell_type": "code",
      "metadata": {
        "colab": {
          "base_uri": "https://localhost:8080/"
        },
        "id": "aV-KC-sv3OJB",
        "outputId": "6ada2582-f102-48af-df00-3445867152ca"
      },
      "source": [
        "np.dot(A_inverse,TristumulusValues)"
      ],
      "execution_count": 120,
      "outputs": [
        {
          "output_type": "execute_result",
          "data": {
            "text/plain": [
              "array([0.68675213, 0.39204896, 0.13036428])"
            ]
          },
          "metadata": {
            "tags": []
          },
          "execution_count": 120
        }
      ]
    },
    {
      "cell_type": "markdown",
      "metadata": {
        "id": "YXBn143OVMgZ"
      },
      "source": [
        "**This code section gives the RGB representation of a true white object under silvania_spectra illuminance.**"
      ]
    },
    {
      "cell_type": "code",
      "metadata": {
        "colab": {
          "base_uri": "https://localhost:8080/"
        },
        "id": "lzTCI0PEUKNj",
        "outputId": "9df8794c-fb7a-4476-d003-a8088cfbb654"
      },
      "source": [
        "R = 255*np.dot(A_inverse,TristumulusValues)[0]\r\n",
        "G = 255*np.dot(A_inverse,TristumulusValues)[1]\r\n",
        "B = 255*np.dot(A_inverse,TristumulusValues)[2]\r\n",
        "print(\"Red =\",R)\r\n",
        "print(\"Green =\",G)\r\n",
        "print(\"Blue =\",B)"
      ],
      "execution_count": 121,
      "outputs": [
        {
          "output_type": "stream",
          "text": [
            "Red = 175.12179229596404\n",
            "Green = 99.9724847224213\n",
            "Blue = 33.24289207793977\n"
          ],
          "name": "stdout"
        }
      ]
    },
    {
      "cell_type": "markdown",
      "metadata": {
        "id": "436kMJVUWABz"
      },
      "source": [
        "**Now Let us consider the uniform_spectra and calculate the tristumulus values for this spectrum.**"
      ]
    },
    {
      "cell_type": "code",
      "metadata": {
        "colab": {
          "base_uri": "https://localhost:8080/"
        },
        "id": "KFdFXMnal747",
        "outputId": "402b7c9e-2077-4229-d43b-4c2a48637fa3"
      },
      "source": [
        "X = sum(dataset['uniform_spectra']*dataset['x'])\r\n",
        "Y = sum(dataset['uniform_spectra']*dataset['y'])\r\n",
        "Z = sum(dataset['uniform_spectra']*dataset['z'])\r\n",
        "TristumulusValues = [X,Y,Z]\r\n",
        "np.array(TristumulusValues)"
      ],
      "execution_count": 122,
      "outputs": [
        {
          "output_type": "execute_result",
          "data": {
            "text/plain": [
              "array([1.00000009, 0.99999984, 1.00000009])"
            ]
          },
          "metadata": {
            "tags": []
          },
          "execution_count": 122
        }
      ]
    },
    {
      "cell_type": "markdown",
      "metadata": {
        "id": "Z3ebc7XDXtfP"
      },
      "source": [
        "**This code section gives the normalized values of the RGB color components of a true white object under uniform_spectra**"
      ]
    },
    {
      "cell_type": "code",
      "metadata": {
        "colab": {
          "base_uri": "https://localhost:8080/"
        },
        "id": "DCd40lVaXseA",
        "outputId": "8544785d-38ee-4398-9e78-6d8fc87863e4"
      },
      "source": [
        "np.dot(A_inverse,TristumulusValues)"
      ],
      "execution_count": 123,
      "outputs": [
        {
          "output_type": "execute_result",
          "data": {
            "text/plain": [
              "array([1.00000032, 0.99999973, 1.0000001 ])"
            ]
          },
          "metadata": {
            "tags": []
          },
          "execution_count": 123
        }
      ]
    },
    {
      "cell_type": "markdown",
      "metadata": {
        "id": "yUV2x6kAYGU3"
      },
      "source": [
        "**This code section gives the RGB representation of a true white object under uniform_spectra illuminance.**"
      ]
    },
    {
      "cell_type": "code",
      "metadata": {
        "colab": {
          "base_uri": "https://localhost:8080/"
        },
        "id": "znSRnn0VYL1o",
        "outputId": "51b0305c-f076-4c22-c617-a60c2cd56ab3"
      },
      "source": [
        "R = round(255*np.dot(A_inverse,TristumulusValues)[0],3)\r\n",
        "G = round(255*np.dot(A_inverse,TristumulusValues)[1],3)\r\n",
        "B = round(255*np.dot(A_inverse,TristumulusValues)[2],3)\r\n",
        "print(\"Red =\",R)\r\n",
        "print(\"Green =\",G)\r\n",
        "print(\"Blue =\",B)"
      ],
      "execution_count": 124,
      "outputs": [
        {
          "output_type": "stream",
          "text": [
            "Red = 255.0\n",
            "Green = 255.0\n",
            "Blue = 255.0\n"
          ],
          "name": "stdout"
        }
      ]
    }
  ]
}