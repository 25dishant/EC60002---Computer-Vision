{
  "nbformat": 4,
  "nbformat_minor": 0,
  "metadata": {
    "colab": {
      "name": "20EC65R03_CV_asgnmnt1_2.ipynb",
      "provenance": [],
      "collapsed_sections": []
    },
    "kernelspec": {
      "name": "python3",
      "display_name": "Python 3"
    }
  },
  "cells": [
    {
      "cell_type": "markdown",
      "metadata": {
        "id": "xvr257Y98S1t"
      },
      "source": [
        ""
      ]
    },
    {
      "cell_type": "markdown",
      "metadata": {
        "id": "0fIhTUGGZ7vf"
      },
      "source": [
        "1.  **Upload the data (Excel Sheet) given for this assignment to the google drive.**\r\n",
        "2.  **Mount the google drive by giving required permissions.**\r\n",
        "3.  **Enter the permission code in the field that appears after running the code section in the first cell.**"
      ]
    },
    {
      "cell_type": "code",
      "metadata": {
        "colab": {
          "base_uri": "https://localhost:8080/"
        },
        "id": "40OlRYL51B26",
        "outputId": "5af22a52-8600-4650-fcd8-a87af9110afa"
      },
      "source": [
        "from google.colab import drive\r\n",
        "drive.mount('/gdrive')\r\n",
        "%cd /gdrive"
      ],
      "execution_count": 45,
      "outputs": [
        {
          "output_type": "stream",
          "text": [
            "Drive already mounted at /gdrive; to attempt to forcibly remount, call drive.mount(\"/gdrive\", force_remount=True).\n",
            "/gdrive\n"
          ],
          "name": "stdout"
        }
      ]
    },
    {
      "cell_type": "markdown",
      "metadata": {
        "id": "h61h-O3Oe-x-"
      },
      "source": [
        "**Import all the required Modules**"
      ]
    },
    {
      "cell_type": "code",
      "metadata": {
        "id": "NT7Om21h1ITN"
      },
      "source": [
        "import pandas as pd\r\n",
        "import numpy as np"
      ],
      "execution_count": 46,
      "outputs": []
    },
    {
      "cell_type": "markdown",
      "metadata": {
        "id": "Bbl7YE3qfUxK"
      },
      "source": [
        "1. **Load the file using pandas**\r\n",
        "2.  **Check the file using head() method**"
      ]
    },
    {
      "cell_type": "code",
      "metadata": {
        "colab": {
          "base_uri": "https://localhost:8080/",
          "height": 204
        },
        "id": "PlpCmTdF1Vbc",
        "outputId": "81e1fed4-a011-41cd-f2ec-cd9f2208beec"
      },
      "source": [
        "dataset = pd.read_excel(\"My Drive/CV_asgnmnt1_Data.xlsx\")\r\n",
        "\r\n",
        "dataset.head()\r\n"
      ],
      "execution_count": 47,
      "outputs": [
        {
          "output_type": "execute_result",
          "data": {
            "text/html": [
              "<div>\n",
              "<style scoped>\n",
              "    .dataframe tbody tr th:only-of-type {\n",
              "        vertical-align: middle;\n",
              "    }\n",
              "\n",
              "    .dataframe tbody tr th {\n",
              "        vertical-align: top;\n",
              "    }\n",
              "\n",
              "    .dataframe thead th {\n",
              "        text-align: right;\n",
              "    }\n",
              "</style>\n",
              "<table border=\"1\" class=\"dataframe\">\n",
              "  <thead>\n",
              "    <tr style=\"text-align: right;\">\n",
              "      <th></th>\n",
              "      <th>wavelength_L nm</th>\n",
              "      <th>x</th>\n",
              "      <th>y</th>\n",
              "      <th>z</th>\n",
              "      <th>philips_spectra</th>\n",
              "      <th>silvania_spectra</th>\n",
              "      <th>uniform_spectra</th>\n",
              "    </tr>\n",
              "  </thead>\n",
              "  <tbody>\n",
              "    <tr>\n",
              "      <th>0</th>\n",
              "      <td>360</td>\n",
              "      <td>0.000006</td>\n",
              "      <td>1.830000e-07</td>\n",
              "      <td>0.000028</td>\n",
              "      <td>0.0</td>\n",
              "      <td>0.021798</td>\n",
              "      <td>1</td>\n",
              "    </tr>\n",
              "    <tr>\n",
              "      <th>1</th>\n",
              "      <td>365</td>\n",
              "      <td>0.000011</td>\n",
              "      <td>3.260000e-07</td>\n",
              "      <td>0.000051</td>\n",
              "      <td>0.0</td>\n",
              "      <td>0.025739</td>\n",
              "      <td>1</td>\n",
              "    </tr>\n",
              "    <tr>\n",
              "      <th>2</th>\n",
              "      <td>370</td>\n",
              "      <td>0.000019</td>\n",
              "      <td>5.800000e-07</td>\n",
              "      <td>0.000091</td>\n",
              "      <td>0.0</td>\n",
              "      <td>0.029357</td>\n",
              "      <td>1</td>\n",
              "    </tr>\n",
              "    <tr>\n",
              "      <th>3</th>\n",
              "      <td>375</td>\n",
              "      <td>0.000035</td>\n",
              "      <td>1.030000e-06</td>\n",
              "      <td>0.000163</td>\n",
              "      <td>0.0</td>\n",
              "      <td>0.031511</td>\n",
              "      <td>1</td>\n",
              "    </tr>\n",
              "    <tr>\n",
              "      <th>4</th>\n",
              "      <td>380</td>\n",
              "      <td>0.000064</td>\n",
              "      <td>1.820000e-06</td>\n",
              "      <td>0.000302</td>\n",
              "      <td>0.0</td>\n",
              "      <td>0.035863</td>\n",
              "      <td>1</td>\n",
              "    </tr>\n",
              "  </tbody>\n",
              "</table>\n",
              "</div>"
            ],
            "text/plain": [
              "   wavelength_L nm           x  ...  silvania_spectra  uniform_spectra\n",
              "0                360  0.000006  ...          0.021798                1\n",
              "1                365  0.000011  ...          0.025739                1\n",
              "2                370  0.000019  ...          0.029357                1\n",
              "3                375  0.000035  ...          0.031511                1\n",
              "4                380  0.000064  ...          0.035863                1\n",
              "\n",
              "[5 rows x 7 columns]"
            ]
          },
          "metadata": {
            "tags": []
          },
          "execution_count": 47
        }
      ]
    },
    {
      "cell_type": "markdown",
      "metadata": {
        "id": "Dc5OThz6g8p5"
      },
      "source": [
        "**Calculation of radiance for X, Y, Z**"
      ]
    },
    {
      "cell_type": "code",
      "metadata": {
        "id": "sWFQcCOffKhX"
      },
      "source": [
        "reflectance_X = dataset['x']/max(dataset['x'])\r\n",
        "radiance_X = dataset['uniform_spectra']*reflectance_X\r\n",
        "reflectance_Y = dataset['y']/max(dataset['y'])\r\n",
        "radiance_Y = dataset['uniform_spectra']*reflectance_Y\r\n",
        "reflectance_Z = dataset['z']/max(dataset['z'])\r\n",
        "radiance_Z = dataset['uniform_spectra']*reflectance_Z"
      ],
      "execution_count": 48,
      "outputs": []
    },
    {
      "cell_type": "markdown",
      "metadata": {
        "id": "5fA3LtSEhN89"
      },
      "source": [
        "**Calculation of Tristumulus values**"
      ]
    },
    {
      "cell_type": "code",
      "metadata": {
        "colab": {
          "base_uri": "https://localhost:8080/"
        },
        "id": "7xnlctw_5aHh",
        "outputId": "4e483564-bb4c-4cfb-9a15-9956d9615ba9"
      },
      "source": [
        " X = sum(radiance_X*dataset['x'])\r\n",
        " Y = sum(radiance_Y*dataset['y'])\r\n",
        " Z = sum(radiance_Z*dataset['z'])\r\n",
        " tristumulusValues = [X,Y,Z]\r\n",
        " np.array(tristumulusValues)"
      ],
      "execution_count": 54,
      "outputs": [
        {
          "output_type": "execute_result",
          "data": {
            "text/plain": [
              "array([0.63402499, 0.72249052, 0.7367702 ])"
            ]
          },
          "metadata": {
            "tags": []
          },
          "execution_count": 54
        }
      ]
    },
    {
      "cell_type": "markdown",
      "metadata": {
        "id": "rkmhwkhKhqyi"
      },
      "source": [
        "**Calculation of the inverse of the matrix that is used for the conversion between RGB and XYZ model**"
      ]
    },
    {
      "cell_type": "code",
      "metadata": {
        "colab": {
          "base_uri": "https://localhost:8080/"
        },
        "id": "FbE2gftP6xFC",
        "outputId": "ddccd10b-c7e1-44e8-b2f6-1465591c9bcf"
      },
      "source": [
        "A = [[0.49,0.31,0.2],[0.177,0.813,0.01],[0,0.01,0.99]]\r\n",
        "A_inverse = np.linalg.inv(A)\r\n",
        "A_inverse"
      ],
      "execution_count": 55,
      "outputs": [
        {
          "output_type": "execute_result",
          "data": {
            "text/plain": [
              "array([[ 2.36439757, -0.89578988, -0.46860769],\n",
              "       [-0.51482211,  1.42521374,  0.08960837],\n",
              "       [ 0.00520022, -0.0143961 ,  1.00919588]])"
            ]
          },
          "metadata": {
            "tags": []
          },
          "execution_count": 55
        }
      ]
    },
    {
      "cell_type": "markdown",
      "metadata": {
        "id": "R712XVbiiK5U"
      },
      "source": [
        "**This code section gives the normalized values of the RGB color components of given object under uniform_spectra**"
      ]
    },
    {
      "cell_type": "code",
      "metadata": {
        "colab": {
          "base_uri": "https://localhost:8080/"
        },
        "id": "RxXE3qU_683p",
        "outputId": "b1b08b1a-e66a-4d2f-cb43-b7e6bf9b0dc2"
      },
      "source": [
        "np.dot(A_inverse,tristumulusValues)"
      ],
      "execution_count": 60,
      "outputs": [
        {
          "output_type": "execute_result",
          "data": {
            "text/plain": [
              "array([0.50663127, 0.76931411, 0.73644147])"
            ]
          },
          "metadata": {
            "tags": []
          },
          "execution_count": 60
        }
      ]
    },
    {
      "cell_type": "markdown",
      "metadata": {
        "id": "pclJ5X-hjUNF"
      },
      "source": [
        "**This code section gives the RGB representation of given object under uniform_spectra illuminance.**"
      ]
    },
    {
      "cell_type": "code",
      "metadata": {
        "colab": {
          "base_uri": "https://localhost:8080/"
        },
        "id": "iHi5NJ3xiwDm",
        "outputId": "d2a88f24-43f8-4f65-8215-d580a7569c05"
      },
      "source": [
        "R = 255*np.dot(A_inverse,tristumulusValues)[0]\r\n",
        "G = 255*np.dot(A_inverse,tristumulusValues)[1]\r\n",
        "B = 255*np.dot(A_inverse,tristumulusValues)[2]\r\n",
        "print(\"Red =\",R)\r\n",
        "print(\"Green =\",G)\r\n",
        "print(\"Blue =\",B)"
      ],
      "execution_count": 61,
      "outputs": [
        {
          "output_type": "stream",
          "text": [
            "Red = 129.19097505347645\n",
            "Green = 196.1750971840394\n",
            "Blue = 187.79257556388146\n"
          ],
          "name": "stdout"
        }
      ]
    }
  ]
}