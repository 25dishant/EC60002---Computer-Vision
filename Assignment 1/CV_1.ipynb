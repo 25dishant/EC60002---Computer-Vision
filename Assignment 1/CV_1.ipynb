{
  "nbformat": 4,
  "nbformat_minor": 0,
  "metadata": {
    "colab": {
      "name": "Untitled1.ipynb",
      "provenance": [],
      "collapsed_sections": []
    },
    "kernelspec": {
      "name": "python3",
      "display_name": "Python 3"
    }
  },
  "cells": [
    {
      "cell_type": "code",
      "metadata": {
        "id": "vk2_PCTytZFV"
      },
      "source": [
        "import numpy as np\r\n",
        "import pandas as pd\r\n",
        "cv_data = \"/CA1_Data.xlsx\"\r\n",
        "datas = pd.read_excel(cv_data)\r\n",
        "A = np.array([[0.49, 0.31, 0.2],\r\n",
        "\t      [0.177,0.813,0.01],\r\n",
        "\t      [0    , 0.01, 0.99]]\r\n",
        ")\r\n",
        "B= np.linalg.inv(A)\r\n",
        "print(B)\r\n",
        "datas['X'] = datas['x'] * datas['philips_spectra']\r\n",
        "datas['Y'] = datas['y'] * datas['philips_spectra']\r\n",
        "datas['Z'] = datas['z'] * datas['philips_spectra']\r\n",
        "X = datas['X'].sum()\r\n",
        "Y = datas['Y'].sum()\r\n",
        "Z = datas['Z'].sum()\r\n",
        "XYZ = [X, Y, Z]\r\n",
        "rgb = np.dot(B,XYZ)\r\n",
        "print(rgb * 255)\r\n"
      ],
      "execution_count": null,
      "outputs": []
    },
    {
      "cell_type": "markdown",
      "metadata": {
        "id": "FOVzGXIUuIcT"
      },
      "source": [
        "Silvania"
      ]
    },
    {
      "cell_type": "code",
      "metadata": {
        "id": "aQdAF3iLt1dU"
      },
      "source": [
        "datas['X'] = datas['x'] * datas['silvania_spectra']\r\n",
        "datas['Y'] = datas['y'] * datas['silvania_spectra']\r\n",
        "datas['Z'] = datas['z'] * datas['silvania_spectra']\r\n",
        "X = datas['X'].sum()\r\n",
        "Y = datas['Y'].sum()\r\n",
        "Z = datas['Z'].sum()\r\n",
        "XYZ = [X, Y, Z]\r\n",
        "rgb = np.dot(B,XYZ)\r\n",
        "print(rgb * 255)\r\n"
      ],
      "execution_count": null,
      "outputs": []
    },
    {
      "cell_type": "markdown",
      "metadata": {
        "id": "A0ijD3tPuKh6"
      },
      "source": [
        "Uniform"
      ]
    },
    {
      "cell_type": "code",
      "metadata": {
        "id": "N-fV-hl3t6kE"
      },
      "source": [
        "datas['X'] = datas['x'] * datas['uniform_spectra']\r\n",
        "datas['Y'] = datas['y'] * datas['uniform_spectra']\r\n",
        "datas['Z'] = datas['z'] * datas['uniform_spectra']\r\n",
        "X = datas['X'].sum()\r\n",
        "Y = datas['Y'].sum()\r\n",
        "Z = datas['Z'].sum()\r\n",
        "XYZ = [X, Y, Z]\r\n",
        "rgb = np.dot(B,XYZ)\r\n",
        "print(rgb * 255)\r\n"
      ],
      "execution_count": null,
      "outputs": []
    },
    {
      "cell_type": "markdown",
      "metadata": {
        "id": "vwHJ3g8XuMOW"
      },
      "source": [
        "Part-2"
      ]
    },
    {
      "cell_type": "code",
      "metadata": {
        "id": "rQz2kHgGt9Aa"
      },
      "source": [
        "max_x = max(datas['x']);\r\n",
        "max_y = max(datas['y']);\r\n",
        "max_z = max(datas['z']);\r\n",
        "datas['reflectance_x'] = datas['x']/max_x\r\n",
        "datas['reflectance_y'] = datas['y']/max_y\r\n",
        "datas['reflectance_z'] = datas['z']/max_z\r\n",
        "datas['X'] = datas['x'] * datas['uniform_spectra'] * datas['reflectance_x']\r\n",
        "datas['Y'] = datas['y'] * datas['uniform_spectra'] *datas['reflectance_y']\r\n",
        "datas['Z'] = datas['z'] * datas['uniform_spectra'] *datas['reflectance_z']\r\n",
        "X = datas['X'].sum()\r\n",
        "Y = datas['Y'].sum()\r\n",
        "Z = datas['Z'].sum()\r\n",
        "XYZ = [X, Y, Z]\r\n",
        "rgb = np.dot(B,XYZ)\r\n",
        "print(rgb * 255)\r\n"
      ],
      "execution_count": null,
      "outputs": []
    }
  ]
}