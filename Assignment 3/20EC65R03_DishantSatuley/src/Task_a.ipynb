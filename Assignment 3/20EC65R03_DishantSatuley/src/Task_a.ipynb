{
  "nbformat": 4,
  "nbformat_minor": 0,
  "metadata": {
    "colab": {
      "name": "CV_assignment_3a.ipynb",
      "provenance": []
    },
    "kernelspec": {
      "name": "python3",
      "display_name": "Python 3"
    }
  },
  "cells": [
    {
      "cell_type": "code",
      "metadata": {
        "id": "44B2ncJuGGcy"
      },
      "source": [
        "import math as m\r\n",
        "import numpy as np"
      ],
      "execution_count": 1,
      "outputs": []
    },
    {
      "cell_type": "code",
      "metadata": {
        "colab": {
          "base_uri": "https://localhost:8080/"
        },
        "id": "XJXrVMVzC5Ya",
        "outputId": "e6529b8c-2fd2-4bc0-ff0d-6421d74c3977"
      },
      "source": [
        "sigma1 = float(input(\"sigma1:\"))\r\n",
        "sigma2 = float(input(\"sigma2:\"))\r\n",
        "def Gaussian(sigma,mux,muy):\r\n",
        "  #size of the kernel as specified in the problem\r\n",
        "  kernel_size = m.ceil(6*sigma2)\r\n",
        "  if kernel_size%2 == 0:\r\n",
        "    kernel_size = kernel_size + 1\r\n",
        "  Gaussian_Kernel = np.zeros((kernel_size,kernel_size),dtype='float32')\r\n",
        "  p = kernel_size//2\r\n",
        "  q = kernel_size//2\r\n",
        "\r\n",
        "  for x in range(-p,p+1):\r\n",
        "    for y in range(-q,q+1):\r\n",
        "      gaussian = (1/(2*np.pi*sigma**2))*np.exp(-(((x-mux)**2)+(y-muy)**2)/(2*sigma**2))\r\n",
        "\r\n",
        "      Gaussian_Kernel[x+p,y+q] = gaussian\r\n",
        "\r\n",
        "  Gaussian_Kernel = Gaussian_Kernel/np.sum(Gaussian_Kernel)\r\n",
        "\r\n",
        "  return Gaussian_Kernel\r\n",
        "\r\n",
        "Gaussian_Kernel1 = Gaussian(sigma1,0,0)\r\n",
        "print(\"sum of all the elements of gaussian kernel at sigma1 = \",round(np.sum(Gaussian_Kernel1),4))\r\n",
        "Gaussian_Kernel2 = Gaussian(sigma2,0,0)\r\n",
        "print(\"sum of all the elements of gaussian kernel at sigma2 = \",round(np.sum(Gaussian_Kernel2),4))\r\n",
        "DoG_Kernel = Gaussian_Kernel1 - Gaussian_Kernel2\r\n",
        "print(\"sum of all the elements of DoG kernel = \",np.sum(DoG_Kernel))"
      ],
      "execution_count": 2,
      "outputs": [
        {
          "output_type": "stream",
          "text": [
            "sigma1:1\n",
            "sigma2:9\n",
            "sum of all the elements of gaussian kernel at sigma1 =  1.0\n",
            "sum of all the elements of gaussian kernel at sigma2 =  1.0\n",
            "sum of all the elements of DoG kernel =  -3.7252903e-08\n"
          ],
          "name": "stdout"
        }
      ]
    }
  ]
}